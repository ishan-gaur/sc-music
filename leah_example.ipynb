{
 "cells": [
  {
   "cell_type": "markdown",
   "id": "32f87372-7650-429a-a03c-cf587f080c8c",
   "metadata": {},
   "source": [
    "# image download\n",
    "\n",
    "download images from HPA website using unique/samples .tsv files that contain info on what antibody to use + image filename\n",
    "\n",
    "makes 2 folds of images (1 for each of 2 images for a given antibody)\n",
    "\n",
    "makes node attributes file that contains image info for each protein\n",
    "\n",
    "Note: ~10 minutes for 168 proteins"
   ]
  },
  {
   "cell_type": "code",
   "execution_count": 2,
   "id": "f4630a84-a6a6-415b-9c9d-06c85fb41c59",
   "metadata": {},
   "outputs": [],
   "source": [
    "outdir_image_download = './1.image_download'\n",
    "unique = './examples/unique.csv'\n",
    "samples = './examples/samples.csv'\n",
    "provenance = './examples/provenance.json'"
   ]
  },
  {
   "cell_type": "code",
   "execution_count": 3,
   "id": "2c5daed2-57cf-4676-a66e-9cff9c9bad9a",
   "metadata": {},
   "outputs": [
    {
     "name": "stderr",
     "output_type": "stream",
     "text": [
      "Downloading proteinatlas.xml.gz: 100%|██████████| 627M/627M [02:26<00:00, 4.48MB/s]   \n",
      "Download: 100%|██████████| 1916/1916 [12:14<00:00,  2.61images/s]\n",
      "Get updated gene symbols:  80%|████████  | 4/5 [00:01<00:00,  3.30steps/s]\n",
      "Get updated gene symbols:  80%|████████  | 4/5 [00:01<00:00,  3.43steps/s]\n",
      "FAIRSCAPE red images registration:   5%|▌         | 25/479 [00:19<05:50,  1.29it/s]\n",
      "FAIRSCAPE blue images registration:   5%|▌         | 25/479 [00:19<05:52,  1.29it/s]\n",
      "FAIRSCAPE green images registration:   5%|▌         | 25/479 [00:19<05:56,  1.27it/s]\n",
      "FAIRSCAPE yellow images registration:   5%|▌         | 25/479 [00:19<05:57,  1.27it/s]\n"
     ]
    }
   ],
   "source": [
    "%run /cellar/users/lvschaffer/GitClones/cellmaps/cellmaps_imagedownloader/cellmaps_imagedownloader/cellmaps_imagedownloadercmd.py $outdir_image_download --unique $unique --samples $samples --provenance $provenance"
   ]
  },
  {
   "cell_type": "markdown",
   "id": "d4c38206-738c-4ba1-b8f0-3655fef60c43",
   "metadata": {},
   "source": [
    "# image embedding\n",
    "\n",
    "make image embeddings using HPA densenet model\n",
    "\n",
    "if more than 1 fold of images, can specify as parameter (default is just fold 1)\n",
    "\n",
    "Note: ~10 minutes for 168 proteins"
   ]
  },
  {
   "cell_type": "code",
   "execution_count": 4,
   "id": "4c261f8c-156a-4f90-b46c-eadbefbfd0e6",
   "metadata": {},
   "outputs": [],
   "source": [
    "outdir_image_embedding = './2.image_embedding'\n",
    "inputdir = './1.image_download'\n",
    "model_path = '/cellar/users/cchuras/music/densenet_model/models_visualizations_bestfitting_20190430/models/bestfitting-1st/external_crop1024_focal_slov_hardlog_clean_class_densenet121_large_dropout_i1536_aug2_5folds/fold0/final.pth'\n"
   ]
  },
  {
   "cell_type": "code",
   "execution_count": 5,
   "id": "a50d6546-ad06-49aa-94e3-eb2296d4d0b6",
   "metadata": {},
   "outputs": [
    {
     "name": "stdout",
     "output_type": "stream",
     "text": [
      "load model: /cellar/users/lvschaffer/Data/MuSIC/U2OS/coembedding/muse_pytorch/new_embeddings/U2OS_music_pipeline_analysis/cellmaps_toolkit/test_run/2.image_embedding/model.pth\n"
     ]
    },
    {
     "name": "stderr",
     "output_type": "stream",
     "text": [
      "100%|██████████| 479/479 [07:58<00:00,  1.00it/s]\n"
     ]
    }
   ],
   "source": [
    "%run /cellar/users/lvschaffer/GitClones/cellmaps/cellmaps_image_embedding/cellmaps_image_embedding/cellmaps_image_embeddingcmd.py $outdir_image_embedding --inputdir $inputdir --model_path $model_path"
   ]
  },
  {
   "cell_type": "markdown",
   "id": "99740ad6-2af8-47b8-b75b-49b3fde5cf04",
   "metadata": {},
   "source": [
    "# ppi downloader\n",
    "\n",
    "creates gene name edge list for node2vec input \n",
    "\n",
    "makes node attributes file that contains PPI info for each protein"
   ]
  },
  {
   "cell_type": "code",
   "execution_count": 1,
   "id": "62aee3cb-f532-4120-932c-b7d1f728d13b",
   "metadata": {},
   "outputs": [],
   "source": [
    "outdir_ppi_download = './1.ppi_download'\n",
    "edgelist = './examples/edgelist.tsv'\n",
    "baitlist = './examples/baitlist.tsv'\n",
    "provenance = './examples/provenance.json'"
   ]
  },
  {
   "cell_type": "code",
   "execution_count": 2,
   "id": "4878e50d-78d4-46be-a8fa-df92500a2504",
   "metadata": {},
   "outputs": [
    {
     "name": "stderr",
     "output_type": "stream",
     "text": [
      "Get updated gene symbols: 100%|██████████| 2/2 [00:02<00:00,  1.44s/steps]\n"
     ]
    }
   ],
   "source": [
    "%run /cellar/users/lvschaffer/GitClones/cellmaps/cellmaps_ppidownloader/cellmaps_ppidownloader/cellmaps_ppidownloadercmd.py $outdir_ppi_download --edgelist $edgelist --baitlist $baitlist --provenance $provenance"
   ]
  },
  {
   "cell_type": "markdown",
   "id": "b29daa1e-6c6f-4d46-9980-79d7ad8e8c2c",
   "metadata": {},
   "source": [
    "# ppi embedding\n",
    "\n",
    "run node2vec on PPI network\n",
    "\n",
    "Note: may want to test different p and q values"
   ]
  },
  {
   "cell_type": "code",
   "execution_count": 3,
   "id": "25774d5a-b9e6-4021-93b5-6dd8fc34044a",
   "metadata": {},
   "outputs": [],
   "source": [
    "outdir_ppi_embedding = './2.ppi_embedding'\n",
    "inputdir = './1.ppi_download'"
   ]
  },
  {
   "cell_type": "code",
   "execution_count": 4,
   "id": "fc3cd140-a90d-44e6-ab01-43e53d4c458c",
   "metadata": {},
   "outputs": [
    {
     "name": "stderr",
     "output_type": "stream",
     "text": [
      "/cellar/users/lvschaffer/miniconda3/envs/cellmaps_toolkit/lib/python3.8/site-packages/tqdm/auto.py:21: TqdmWarning: IProgress not found. Please update jupyter and ipywidgets. See https://ipywidgets.readthedocs.io/en/stable/user_install.html\n",
      "  from .autonotebook import tqdm as notebook_tqdm\n",
      "Computing transition probabilities: 100%|██████████| 1010/1010 [00:03<00:00, 297.23it/s]\n",
      "Generating walks (CPU: 8): 100%|██████████| 1/1 [00:08<00:00,  8.84s/it]"
     ]
    }
   ],
   "source": [
    "%run /cellar/users/lvschaffer/GitClones/cellmaps/cellmaps_ppi_embedding/cellmaps_ppi_embedding/cellmaps_ppi_embeddingcmd.py $outdir_ppi_embedding --inputdir $inputdir"
   ]
  },
  {
   "cell_type": "markdown",
   "id": "15aebfe5-59fa-4c31-a9a5-19b09d0a134d",
   "metadata": {},
   "source": [
    "# coembedding\n",
    "\n",
    "runs implementation of MUSE to create a single integrated embedding for each protein \n",
    "\n",
    "note: may want to alter # epochs to reduce training time"
   ]
  },
  {
   "cell_type": "code",
   "execution_count": 5,
   "id": "62a029bf-2694-49bb-9d40-413952e6e0f7",
   "metadata": {},
   "outputs": [],
   "source": [
    "outdir_coembedding = './3.coembedding'\n",
    "ppi_embeddingdir = './2.ppi_embedding'\n",
    "image_embeddingdir = './2.image_embedding'\n",
    "image_downloaddir = './1.image_download'"
   ]
  },
  {
   "cell_type": "code",
   "execution_count": 6,
   "id": "a2a43b40-3b0d-40be-aad8-b6eaa71d77e6",
   "metadata": {},
   "outputs": [
    {
     "name": "stderr",
     "output_type": "stream",
     "text": [
      "Saving embedding: 0it [00:00, ?it/s]"
     ]
    },
    {
     "name": "stdout",
     "output_type": "stream",
     "text": [
      "Finding 10 nearest neighbors using cosine metric and 'brute' algorithm\n",
      "Neighbors computed in 0.0584871768951416 seconds\n",
      "Jaccard graph constructed in 1.2174086570739746 seconds\n",
      "Wrote graph to binary file in 0.0035266876220703125 seconds\n",
      "Running Louvain modularity optimization\n",
      "After 1 runs, maximum modularity is Q = 0.74324\n",
      "After 2 runs, maximum modularity is Q = 0.745721\n",
      "After 3 runs, maximum modularity is Q = 0.74787\n",
      "Louvain completed 23 runs in 2.5026867389678955 seconds\n",
      "Sorting communities by size, please wait ...\n",
      "PhenoGraph completed in 5.033484220504761 seconds\n",
      "Finding 10 nearest neighbors using cosine metric and 'brute' algorithm\n",
      "Neighbors computed in 0.0038938522338867188 seconds\n",
      "Jaccard graph constructed in 1.1330912113189697 seconds\n",
      "Wrote graph to binary file in 0.003638029098510742 seconds\n",
      "Running Louvain modularity optimization\n",
      "After 1 runs, maximum modularity is Q = 0.812887\n",
      "Louvain completed 21 runs in 1.764833927154541 seconds\n",
      "Sorting communities by size, please wait ...\n",
      "PhenoGraph completed in 4.018404483795166 seconds\n",
      "Finding 10 nearest neighbors using cosine metric and 'brute' algorithm\n",
      "Neighbors computed in 0.004843235015869141 seconds\n",
      "Jaccard graph constructed in 1.1914997100830078 seconds\n",
      "Wrote graph to binary file in 0.0035886764526367188 seconds\n",
      "Running Louvain modularity optimization\n",
      "After 1 runs, maximum modularity is Q = 0.516374\n",
      "After 2 runs, maximum modularity is Q = 0.52411\n",
      "After 3 runs, maximum modularity is Q = 0.529514\n",
      "After 8 runs, maximum modularity is Q = 0.533624\n",
      "Louvain completed 28 runs in 3.3438518047332764 seconds\n",
      "Sorting communities by size, please wait ...\n",
      "PhenoGraph completed in 5.714473485946655 seconds\n",
      "Finding 10 nearest neighbors using cosine metric and 'brute' algorithm\n",
      "Neighbors computed in 0.002966642379760742 seconds\n",
      "Jaccard graph constructed in 1.3206729888916016 seconds\n",
      "Wrote graph to binary file in 0.004787445068359375 seconds\n",
      "Running Louvain modularity optimization\n",
      "After 1 runs, maximum modularity is Q = 0.853586\n",
      "Louvain completed 21 runs in 1.8907978534698486 seconds\n",
      "Sorting communities by size, please wait ...\n",
      "PhenoGraph completed in 4.387610912322998 seconds\n",
      "Finding 10 nearest neighbors using cosine metric and 'brute' algorithm\n",
      "Neighbors computed in 0.0036110877990722656 seconds\n",
      "Jaccard graph constructed in 1.2421057224273682 seconds\n",
      "Wrote graph to binary file in 0.0037908554077148438 seconds\n",
      "Running Louvain modularity optimization\n",
      "After 1 runs, maximum modularity is Q = 0.761374\n",
      "After 3 runs, maximum modularity is Q = 0.76351\n",
      "Louvain completed 23 runs in 2.278510570526123 seconds\n",
      "Sorting communities by size, please wait ...\n",
      "PhenoGraph completed in 4.691205739974976 seconds\n",
      "Finding 10 nearest neighbors using cosine metric and 'brute' algorithm\n",
      "Neighbors computed in 0.002995014190673828 seconds\n",
      "Jaccard graph constructed in 1.304835557937622 seconds\n",
      "Wrote graph to binary file in 0.0037534236907958984 seconds\n",
      "Running Louvain modularity optimization\n",
      "After 1 runs, maximum modularity is Q = 0.867282\n",
      "Louvain completed 21 runs in 1.846388578414917 seconds\n",
      "Sorting communities by size, please wait ...\n",
      "PhenoGraph completed in 4.321633338928223 seconds\n",
      "Finding 10 nearest neighbors using cosine metric and 'brute' algorithm\n",
      "Neighbors computed in 0.003886699676513672 seconds\n",
      "Jaccard graph constructed in 1.173248291015625 seconds\n",
      "Wrote graph to binary file in 0.0031409263610839844 seconds\n",
      "Running Louvain modularity optimization\n",
      "After 1 runs, maximum modularity is Q = 0.761937\n",
      "After 2 runs, maximum modularity is Q = 0.763309\n",
      "After 5 runs, maximum modularity is Q = 0.765413\n",
      "Louvain completed 25 runs in 2.60433292388916 seconds\n",
      "Sorting communities by size, please wait ...\n",
      "PhenoGraph completed in 4.938823938369751 seconds\n",
      "Finding 10 nearest neighbors using cosine metric and 'brute' algorithm\n",
      "Neighbors computed in 0.00311279296875 seconds\n",
      "Jaccard graph constructed in 1.1856374740600586 seconds\n",
      "Wrote graph to binary file in 0.0035445690155029297 seconds\n",
      "Running Louvain modularity optimization\n",
      "After 1 runs, maximum modularity is Q = 0.873328\n",
      "Louvain completed 21 runs in 1.877941370010376 seconds\n",
      "Sorting communities by size, please wait ...\n",
      "PhenoGraph completed in 4.2340826988220215 seconds\n",
      "Finding 10 nearest neighbors using cosine metric and 'brute' algorithm\n",
      "Neighbors computed in 0.0036132335662841797 seconds\n",
      "Jaccard graph constructed in 1.173170566558838 seconds\n",
      "Wrote graph to binary file in 0.0031561851501464844 seconds\n",
      "Running Louvain modularity optimization\n",
      "After 1 runs, maximum modularity is Q = 0.760725\n",
      "After 3 runs, maximum modularity is Q = 0.763997\n",
      "Louvain completed 23 runs in 2.397860527038574 seconds\n",
      "Sorting communities by size, please wait ...\n",
      "PhenoGraph completed in 4.753999471664429 seconds\n",
      "Finding 10 nearest neighbors using cosine metric and 'brute' algorithm\n",
      "Neighbors computed in 0.0029573440551757812 seconds\n",
      "Jaccard graph constructed in 1.1838128566741943 seconds\n",
      "Wrote graph to binary file in 0.004297018051147461 seconds\n",
      "Running Louvain modularity optimization\n",
      "After 1 runs, maximum modularity is Q = 0.876429\n",
      "Louvain completed 21 runs in 1.7185404300689697 seconds\n",
      "Sorting communities by size, please wait ...\n",
      "PhenoGraph completed in 4.069178342819214 seconds\n",
      "Finding 10 nearest neighbors using cosine metric and 'brute' algorithm\n",
      "Neighbors computed in 0.003595590591430664 seconds\n",
      "Jaccard graph constructed in 1.1742477416992188 seconds\n",
      "Wrote graph to binary file in 0.0037794113159179688 seconds\n",
      "Running Louvain modularity optimization\n",
      "After 1 runs, maximum modularity is Q = 0.769393\n",
      "After 2 runs, maximum modularity is Q = 0.776168\n",
      "After 5 runs, maximum modularity is Q = 0.777266\n",
      "Louvain completed 25 runs in 2.6186466217041016 seconds\n",
      "Sorting communities by size, please wait ...\n",
      "PhenoGraph completed in 4.947542905807495 seconds\n",
      "Finding 10 nearest neighbors using cosine metric and 'brute' algorithm\n",
      "Neighbors computed in 0.002976655960083008 seconds\n",
      "Jaccard graph constructed in 1.1693494319915771 seconds\n",
      "Wrote graph to binary file in 0.003993511199951172 seconds\n",
      "Running Louvain modularity optimization\n",
      "After 1 runs, maximum modularity is Q = 0.876843\n",
      "Louvain completed 21 runs in 1.805812120437622 seconds\n",
      "Sorting communities by size, please wait ...\n",
      "PhenoGraph completed in 4.12414026260376 seconds\n",
      "Finding 10 nearest neighbors using cosine metric and 'brute' algorithm\n",
      "Neighbors computed in 0.003812551498413086 seconds\n",
      "Jaccard graph constructed in 1.1835122108459473 seconds\n",
      "Wrote graph to binary file in 0.00397944450378418 seconds\n",
      "Running Louvain modularity optimization\n",
      "After 1 runs, maximum modularity is Q = 0.763461\n",
      "After 3 runs, maximum modularity is Q = 0.765192\n",
      "After 7 runs, maximum modularity is Q = 0.770628\n",
      "Louvain completed 27 runs in 2.9502103328704834 seconds\n",
      "Sorting communities by size, please wait ...\n",
      "PhenoGraph completed in 5.2834882736206055 seconds\n",
      "Finding 10 nearest neighbors using cosine metric and 'brute' algorithm\n",
      "Neighbors computed in 0.0030531883239746094 seconds\n",
      "Jaccard graph constructed in 1.2976148128509521 seconds\n",
      "Wrote graph to binary file in 0.0041027069091796875 seconds\n",
      "Running Louvain modularity optimization\n",
      "After 1 runs, maximum modularity is Q = 0.877523\n",
      "Louvain completed 21 runs in 1.9044227600097656 seconds\n",
      "Sorting communities by size, please wait ...\n",
      "PhenoGraph completed in 4.359080076217651 seconds\n",
      "Finding 10 nearest neighbors using cosine metric and 'brute' algorithm\n",
      "Neighbors computed in 0.004387617111206055 seconds\n",
      "Jaccard graph constructed in 1.1654634475708008 seconds\n",
      "Wrote graph to binary file in 0.003444671630859375 seconds\n",
      "Running Louvain modularity optimization\n",
      "After 1 runs, maximum modularity is Q = 0.778597\n",
      "Louvain completed 21 runs in 1.6739602088928223 seconds\n",
      "Sorting communities by size, please wait ...\n",
      "PhenoGraph completed in 3.9804527759552 seconds\n",
      "Finding 10 nearest neighbors using cosine metric and 'brute' algorithm\n",
      "Neighbors computed in 0.0029718875885009766 seconds\n",
      "Jaccard graph constructed in 1.1746537685394287 seconds\n",
      "Wrote graph to binary file in 0.003581523895263672 seconds\n",
      "Running Louvain modularity optimization\n",
      "After 1 runs, maximum modularity is Q = 0.878093\n",
      "Louvain completed 21 runs in 1.7733170986175537 seconds\n",
      "Sorting communities by size, please wait ...\n",
      "PhenoGraph completed in 4.099036455154419 seconds\n",
      "Finding 10 nearest neighbors using cosine metric and 'brute' algorithm\n",
      "Neighbors computed in 0.0036497116088867188 seconds\n",
      "Jaccard graph constructed in 1.1856164932250977 seconds\n",
      "Wrote graph to binary file in 0.003603696823120117 seconds\n",
      "Running Louvain modularity optimization\n",
      "After 1 runs, maximum modularity is Q = 0.775185\n",
      "Louvain completed 21 runs in 1.8719797134399414 seconds\n",
      "Sorting communities by size, please wait ...\n",
      "PhenoGraph completed in 4.232722282409668 seconds\n",
      "Finding 10 nearest neighbors using cosine metric and 'brute' algorithm\n",
      "Neighbors computed in 0.0030221939086914062 seconds\n",
      "Jaccard graph constructed in 1.1636402606964111 seconds\n",
      "Wrote graph to binary file in 0.003532886505126953 seconds\n",
      "Running Louvain modularity optimization\n",
      "After 1 runs, maximum modularity is Q = 0.877498\n",
      "Louvain completed 21 runs in 1.8674135208129883 seconds\n",
      "Sorting communities by size, please wait ...\n",
      "PhenoGraph completed in 4.170147895812988 seconds\n",
      "Finding 10 nearest neighbors using cosine metric and 'brute' algorithm\n",
      "Neighbors computed in 0.0035784244537353516 seconds\n",
      "Jaccard graph constructed in 1.281639575958252 seconds\n",
      "Wrote graph to binary file in 0.003986358642578125 seconds\n",
      "Running Louvain modularity optimization\n",
      "After 1 runs, maximum modularity is Q = 0.772441\n",
      "After 2 runs, maximum modularity is Q = 0.780196\n",
      "Louvain completed 22 runs in 2.346733331680298 seconds\n",
      "Sorting communities by size, please wait ...\n",
      "PhenoGraph completed in 4.78923487663269 seconds\n",
      "Finding 10 nearest neighbors using cosine metric and 'brute' algorithm\n",
      "Neighbors computed in 0.003931522369384766 seconds\n",
      "Jaccard graph constructed in 1.172360897064209 seconds\n",
      "Wrote graph to binary file in 0.003929853439331055 seconds\n",
      "Running Louvain modularity optimization\n",
      "After 1 runs, maximum modularity is Q = 0.877411\n",
      "Louvain completed 21 runs in 1.9833359718322754 seconds\n",
      "Sorting communities by size, please wait ...\n",
      "PhenoGraph completed in 4.312076807022095 seconds\n",
      "Finding 10 nearest neighbors using cosine metric and 'brute' algorithm\n",
      "Neighbors computed in 0.00440669059753418 seconds\n",
      "Jaccard graph constructed in 1.2089827060699463 seconds\n",
      "Wrote graph to binary file in 0.003329038619995117 seconds\n",
      "Running Louvain modularity optimization\n",
      "After 1 runs, maximum modularity is Q = 0.774575\n",
      "After 3 runs, maximum modularity is Q = 0.780476\n",
      "Louvain completed 23 runs in 2.2868034839630127 seconds\n",
      "Sorting communities by size, please wait ...\n",
      "PhenoGraph completed in 4.683112621307373 seconds\n",
      "Finding 10 nearest neighbors using cosine metric and 'brute' algorithm\n",
      "Neighbors computed in 0.002969026565551758 seconds\n",
      "Jaccard graph constructed in 1.195770025253296 seconds\n",
      "Wrote graph to binary file in 0.003294706344604492 seconds\n",
      "Running Louvain modularity optimization\n",
      "After 1 runs, maximum modularity is Q = 0.87752\n",
      "Louvain completed 21 runs in 1.763192892074585 seconds\n",
      "Sorting communities by size, please wait ...\n",
      "PhenoGraph completed in 4.153486251831055 seconds\n",
      "Finding 10 nearest neighbors using cosine metric and 'brute' algorithm\n",
      "Neighbors computed in 0.0035598278045654297 seconds\n",
      "Jaccard graph constructed in 1.2722911834716797 seconds\n",
      "Wrote graph to binary file in 0.0031845569610595703 seconds\n",
      "Running Louvain modularity optimization\n",
      "After 1 runs, maximum modularity is Q = 0.782912\n",
      "Louvain completed 21 runs in 1.8046493530273438 seconds\n",
      "Sorting communities by size, please wait ...\n",
      "PhenoGraph completed in 4.214162826538086 seconds\n",
      "Finding 10 nearest neighbors using cosine metric and 'brute' algorithm\n",
      "Neighbors computed in 0.0023009777069091797 seconds\n",
      "Jaccard graph constructed in 1.171255350112915 seconds\n",
      "Wrote graph to binary file in 0.003991603851318359 seconds\n",
      "Running Louvain modularity optimization\n",
      "After 1 runs, maximum modularity is Q = 0.877518\n",
      "Louvain completed 21 runs in 1.9769139289855957 seconds\n",
      "Sorting communities by size, please wait ...\n",
      "PhenoGraph completed in 4.296095132827759 seconds\n"
     ]
    },
    {
     "name": "stderr",
     "output_type": "stream",
     "text": [
      "Saving embedding: 167it [03:22,  1.21s/it]\n"
     ]
    }
   ],
   "source": [
    "%run /cellar/users/lvschaffer/GitClones/cellmaps/cellmaps_coembedding/cellmaps_coembedding/cellmaps_coembeddingcmd.py $outdir_coembedding --ppi_embeddingdir $ppi_embeddingdir --image_embeddingdir $image_embeddingdir"
   ]
  },
  {
   "cell_type": "markdown",
   "id": "47ccbec6-45c1-484c-b701-b3087deb4242",
   "metadata": {},
   "source": [
    "# generate hierarchy\n",
    "\n",
    "Calculates similarities between embeddings then runs HiDeF community detection to make hierarchy\n",
    "Note "
   ]
  },
  {
   "cell_type": "code",
   "execution_count": 7,
   "id": "c9d4b6ba-959f-4cae-a072-a5332ad08766",
   "metadata": {},
   "outputs": [],
   "source": [
    "output_hierarchy = './4.hierarchy'\n",
    "coembedding_dir = './3.coembedding'"
   ]
  },
  {
   "cell_type": "code",
   "execution_count": 8,
   "id": "07bbef5c-95e6-44f5-b7be-0aad38f18bba",
   "metadata": {},
   "outputs": [
    {
     "name": "stderr",
     "output_type": "stream",
     "text": [
      "Generating hierarchy: 0it [00:00, ?it/s]"
     ]
    },
    {
     "name": "stdout",
     "output_type": "stream",
     "text": [
      "Generating CX\n"
     ]
    },
    {
     "name": "stderr",
     "output_type": "stream",
     "text": [
      "Generating hierarchy: 1it [00:01,  1.05s/it]"
     ]
    },
    {
     "name": "stdout",
     "output_type": "stream",
     "text": [
      "Generating CX\n"
     ]
    },
    {
     "name": "stderr",
     "output_type": "stream",
     "text": [
      "Generating hierarchy: 2it [00:01,  1.15it/s]"
     ]
    },
    {
     "name": "stdout",
     "output_type": "stream",
     "text": [
      "Generating CX\n"
     ]
    },
    {
     "name": "stderr",
     "output_type": "stream",
     "text": [
      "Generating hierarchy: 3it [00:02,  1.25it/s]"
     ]
    },
    {
     "name": "stdout",
     "output_type": "stream",
     "text": [
      "Generating CX\n"
     ]
    },
    {
     "name": "stderr",
     "output_type": "stream",
     "text": [
      "Generating hierarchy: 4it [00:03,  1.31it/s]"
     ]
    },
    {
     "name": "stdout",
     "output_type": "stream",
     "text": [
      "Generating CX\n"
     ]
    },
    {
     "name": "stderr",
     "output_type": "stream",
     "text": [
      "Generating hierarchy: 5it [00:03,  1.32it/s]"
     ]
    },
    {
     "name": "stdout",
     "output_type": "stream",
     "text": [
      "Generating CX\n"
     ]
    },
    {
     "name": "stderr",
     "output_type": "stream",
     "text": [
      "Generating hierarchy: 6it [00:04,  1.32it/s]"
     ]
    },
    {
     "name": "stdout",
     "output_type": "stream",
     "text": [
      "Generating CX\n"
     ]
    },
    {
     "name": "stderr",
     "output_type": "stream",
     "text": [
      "Generating hierarchy: 7it [00:05,  1.32it/s]"
     ]
    },
    {
     "name": "stdout",
     "output_type": "stream",
     "text": [
      "Generating CX\n"
     ]
    },
    {
     "name": "stderr",
     "output_type": "stream",
     "text": [
      "Generating hierarchy: 8it [00:06,  1.35it/s]"
     ]
    },
    {
     "name": "stdout",
     "output_type": "stream",
     "text": [
      "Generating CX\n"
     ]
    },
    {
     "name": "stderr",
     "output_type": "stream",
     "text": [
      "Generating hierarchy: 9it [00:06,  1.35it/s]"
     ]
    },
    {
     "name": "stdout",
     "output_type": "stream",
     "text": [
      "Generating CX\n"
     ]
    },
    {
     "name": "stderr",
     "output_type": "stream",
     "text": [
      "Generating hierarchy: 10it [00:07,  1.35it/s]"
     ]
    },
    {
     "name": "stdout",
     "output_type": "stream",
     "text": [
      "Generating CX\n"
     ]
    },
    {
     "name": "stderr",
     "output_type": "stream",
     "text": [
      "Generating hierarchy: 11it [00:08,  1.34it/s]"
     ]
    },
    {
     "name": "stdout",
     "output_type": "stream",
     "text": [
      "Generating CX\n"
     ]
    },
    {
     "name": "stderr",
     "output_type": "stream",
     "text": [
      "\n",
      "Generating hierarchy: 12it [00:09,  1.32it/s]"
     ]
    },
    {
     "name": "stdout",
     "output_type": "stream",
     "text": [
      "Generating CX\n"
     ]
    },
    {
     "name": "stderr",
     "output_type": "stream",
     "text": [
      "Generating hierarchy: 13it [00:10,  1.30it/s]"
     ]
    },
    {
     "name": "stdout",
     "output_type": "stream",
     "text": [
      "Generating CX\n"
     ]
    },
    {
     "name": "stderr",
     "output_type": "stream",
     "text": [
      "Generating hierarchy: 14it [00:10,  1.28it/s]"
     ]
    },
    {
     "name": "stdout",
     "output_type": "stream",
     "text": [
      "Generating CX\n"
     ]
    },
    {
     "name": "stderr",
     "output_type": "stream",
     "text": [
      "Generating hierarchy: 15it [00:11,  1.29it/s]\n",
      "\n",
      "\n",
      "\n",
      "\n",
      "\n"
     ]
    },
    {
     "name": "stdout",
     "output_type": "stream",
     "text": [
      "Generating CX\n",
      "Generating CX\n"
     ]
    },
    {
     "name": "stderr",
     "output_type": "stream",
     "text": [
      "\n",
      "\n"
     ]
    }
   ],
   "source": [
    "%run /cellar/users/lvschaffer/GitClones/cellmaps/cellmaps_generate_hierarchy/cellmaps_generate_hierarchy/cellmaps_generate_hierarchycmd.py $output_hierarchy --coembedding_dir $coembedding_dir"
   ]
  },
  {
   "cell_type": "markdown",
   "id": "6f5887b7-0973-4eeb-9375-19ed9546bb8b",
   "metadata": {},
   "source": [
    "# eval"
   ]
  },
  {
   "cell_type": "code",
   "execution_count": null,
   "id": "e6037deb-f315-4df3-9f15-489672cdca87",
   "metadata": {},
   "outputs": [],
   "source": [
    "output_hierarchy = '/cellar/users/lvschaffer/Data/MuSIC/U2OS/coembedding/muse_pytorch/new_embeddings/U2OS_music_pipeline_analysis/cellmaps_toolkit/5.eval_hierarchy'\n",
    "inputdir = '/cellar/users/lvschaffer/Data/MuSIC/U2OS/coembedding/muse_pytorch/new_embeddings/U2OS_music_pipeline_analysis/cellmaps_toolkit/4.hierarchy'"
   ]
  },
  {
   "cell_type": "code",
   "execution_count": 10,
   "id": "6799ceba-3003-48ff-bec1-3a42d24ff106",
   "metadata": {},
   "outputs": [
    {
     "ename": "ModuleNotFoundError",
     "evalue": "No module named 'cellmaps_hierarchyeval'",
     "output_type": "error",
     "traceback": [
      "\u001b[0;31m---------------------------------------------------------------------------\u001b[0m",
      "\u001b[0;31mModuleNotFoundError\u001b[0m                       Traceback (most recent call last)",
      "File \u001b[0;32m~/GitClones/cellmaps/cellmaps_hierarchyeval/cellmaps_hierarchyeval/cellmaps_hierarchyevalcmd.py:10\u001b[0m\n\u001b[1;32m      8\u001b[0m \u001b[38;5;28;01mfrom\u001b[39;00m \u001b[38;5;21;01mcellmaps_utils\u001b[39;00m \u001b[38;5;28;01mimport\u001b[39;00m constants\n\u001b[1;32m      9\u001b[0m \u001b[38;5;28;01mfrom\u001b[39;00m \u001b[38;5;21;01mcellmaps_utils\u001b[39;00m\u001b[38;5;21;01m.\u001b[39;00m\u001b[38;5;21;01mprovenance\u001b[39;00m \u001b[38;5;28;01mimport\u001b[39;00m ProvenanceUtil\n\u001b[0;32m---> 10\u001b[0m \u001b[38;5;28;01mimport\u001b[39;00m \u001b[38;5;21;01mcellmaps_hierarchyeval\u001b[39;00m\n\u001b[1;32m     11\u001b[0m \u001b[38;5;28;01mfrom\u001b[39;00m \u001b[38;5;21;01mcellmaps_hierarchyeval\u001b[39;00m\u001b[38;5;21;01m.\u001b[39;00m\u001b[38;5;21;01mrunner\u001b[39;00m \u001b[38;5;28;01mimport\u001b[39;00m CellmapshierarchyevalRunner\n\u001b[1;32m     13\u001b[0m logger \u001b[38;5;241m=\u001b[39m logging\u001b[38;5;241m.\u001b[39mgetLogger(\u001b[38;5;18m__name__\u001b[39m)\n",
      "\u001b[0;31mModuleNotFoundError\u001b[0m: No module named 'cellmaps_hierarchyeval'"
     ]
    }
   ],
   "source": [
    "%run /cellar/users/lvschaffer/GitClones/cellmaps/cellmaps_hierarchyeval/cellmaps_hierarchyeval/cellmaps_hierarchyevalcmd.py $output_hierarchy --hierarchy_dir $inputdir"
   ]
  }
 ],
 "metadata": {
  "kernelspec": {
   "display_name": "implicit",
   "language": "python",
   "name": "python3"
  },
  "language_info": {
   "codemirror_mode": {
    "name": "ipython",
    "version": 3
   },
   "file_extension": ".py",
   "mimetype": "text/x-python",
   "name": "python",
   "nbconvert_exporter": "python",
   "pygments_lexer": "ipython3",
   "version": "3.10.12"
  }
 },
 "nbformat": 4,
 "nbformat_minor": 5
}
